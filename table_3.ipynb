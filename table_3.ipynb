{
 "cells": [
  {
   "cell_type": "code",
   "execution_count": 1,
   "metadata": {},
   "outputs": [],
   "source": [
    "import numpy as np\n",
    "import math"
   ]
  },
  {
   "cell_type": "code",
   "execution_count": 42,
   "metadata": {},
   "outputs": [
    {
     "name": "stdout",
     "output_type": "stream",
     "text": [
      "For tau = 0: X = 5714, Y1 = 0, Y2 = 22418\n",
      "For tau = 0.1: X = 8000, Y1 = 0, Y2 = 9655\n",
      "For tau = 0.2: X = 13333, Y1 = 0, Y2 = 5630\n",
      "For tau = 0.3: X = 40000, Y1 = 0, Y2 = 1967\n",
      "For tau = 0.4: X = 64000, Y1 = 0, Y2 = 0\n"
     ]
    }
   ],
   "source": [
    "def table_3(P, mu, b1, b2, c, gamma1, gamma2, X0, Y10, Y20, tau, dt, num_steps):\n",
    "    X = np.zeros(num_steps)\n",
    "    Y1 = np.zeros(num_steps)\n",
    "    Y2 = np.zeros(num_steps)\n",
    "\n",
    "    X[0] = X0\n",
    "    Y1[0] = Y10\n",
    "    Y2[0] = Y20\n",
    "\n",
    "    for n in range(num_steps - 1):\n",
    "        X[n+1] = (X[n] + P * dt) / (1 + dt * (mu + c / (X[n] + Y1[n] + Y2[n]) * (b1 * Y1[n] + b2 * Y2[n])))\n",
    "        Y1[n+1] = Y1[n] / (1 + dt * (mu + gamma1 + tau - (b1 * c * X[n+1]) / (X[n+1] + Y1[n] + Y2[n])))\n",
    "        Y2[n+1] = Y2[n] / (1 + dt * (mu + gamma2 + tau - (b2 * c * X[n+1]) / (X[n+1] + Y1[n+1] + Y2[n])))\n",
    "\n",
    "    return X, Y1, Y2\n",
    "\n",
    "#Parameters and initial values\n",
    "P = 2000\n",
    "mu = 1/32\n",
    "b1 = 0.06\n",
    "b2 = 0.1\n",
    "c = 4\n",
    "gamma1 = 0.1\n",
    "gamma2 = 0.05\n",
    "X0 = 8000\n",
    "Y10 = 200\n",
    "Y20 = 300\n",
    "tau_values = [0, 0.1, 0.2, 0.3, 0.4]\n",
    "dt = 0.01\n",
    "num_steps = 200000\n",
    "\n",
    "for tau in tau_values:\n",
    "    X, Y1, Y2 = table_3(P, mu, b1, b2, c, gamma1, gamma2, X0, Y10, Y20, tau, dt, num_steps)\n",
    "    print(f\"For tau = {tau}: X = {round(X[-1])}, Y1 = {round(Y1[-1])}, Y2 = {round(Y2[-1])}\")\n"
   ]
  }
 ],
 "metadata": {
  "kernelspec": {
   "display_name": "Python 3",
   "language": "python",
   "name": "python3"
  },
  "language_info": {
   "codemirror_mode": {
    "name": "ipython",
    "version": 3
   },
   "file_extension": ".py",
   "mimetype": "text/x-python",
   "name": "python",
   "nbconvert_exporter": "python",
   "pygments_lexer": "ipython3",
   "version": "3.9.7"
  }
 },
 "nbformat": 4,
 "nbformat_minor": 2
}
